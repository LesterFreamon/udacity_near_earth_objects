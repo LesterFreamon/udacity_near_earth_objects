{
 "cells": [
  {
   "cell_type": "code",
   "execution_count": 2,
   "id": "82384de1",
   "metadata": {},
   "outputs": [],
   "source": [
    "%load_ext autoreload\n",
    "%autoreload 2"
   ]
  },
  {
   "cell_type": "code",
   "execution_count": 58,
   "id": "060df578",
   "metadata": {},
   "outputs": [],
   "source": [
    "import csv\n",
    "import pandas as pd\n",
    "import json\n",
    "from pandas.io.json import json_normalize"
   ]
  },
  {
   "cell_type": "code",
   "execution_count": 19,
   "id": "d3eea656",
   "metadata": {},
   "outputs": [],
   "source": [
    "neo_df = pd.read_csv('./data/neos.csv')"
   ]
  },
  {
   "cell_type": "code",
   "execution_count": 25,
   "id": "f6b5823b",
   "metadata": {},
   "outputs": [
    {
     "data": {
      "text/html": [
       "<div>\n",
       "<style scoped>\n",
       "    .dataframe tbody tr th:only-of-type {\n",
       "        vertical-align: middle;\n",
       "    }\n",
       "\n",
       "    .dataframe tbody tr th {\n",
       "        vertical-align: top;\n",
       "    }\n",
       "\n",
       "    .dataframe thead th {\n",
       "        text-align: right;\n",
       "    }\n",
       "</style>\n",
       "<table border=\"1\" class=\"dataframe\">\n",
       "  <thead>\n",
       "    <tr style=\"text-align: right;\">\n",
       "      <th></th>\n",
       "      <th>id</th>\n",
       "      <th>spkid</th>\n",
       "      <th>full_name</th>\n",
       "      <th>pdes</th>\n",
       "      <th>name</th>\n",
       "      <th>prefix</th>\n",
       "      <th>neo</th>\n",
       "      <th>pha</th>\n",
       "      <th>H</th>\n",
       "      <th>G</th>\n",
       "      <th>...</th>\n",
       "      <th>n_obs_used</th>\n",
       "      <th>n_del_obs_used</th>\n",
       "      <th>n_dop_obs_used</th>\n",
       "      <th>condition_code</th>\n",
       "      <th>rms</th>\n",
       "      <th>two_body</th>\n",
       "      <th>A1</th>\n",
       "      <th>A2</th>\n",
       "      <th>A3</th>\n",
       "      <th>DT</th>\n",
       "    </tr>\n",
       "  </thead>\n",
       "  <tbody>\n",
       "    <tr>\n",
       "      <th>0</th>\n",
       "      <td>a0000433</td>\n",
       "      <td>2000433</td>\n",
       "      <td>433 Eros (A898 PA)</td>\n",
       "      <td>433</td>\n",
       "      <td>Eros</td>\n",
       "      <td>NaN</td>\n",
       "      <td>Y</td>\n",
       "      <td>N</td>\n",
       "      <td>10.4</td>\n",
       "      <td>0.46</td>\n",
       "      <td>...</td>\n",
       "      <td>8767</td>\n",
       "      <td>4.0</td>\n",
       "      <td>2.0</td>\n",
       "      <td>0.0</td>\n",
       "      <td>0.28397</td>\n",
       "      <td>NaN</td>\n",
       "      <td>NaN</td>\n",
       "      <td>NaN</td>\n",
       "      <td>NaN</td>\n",
       "      <td>NaN</td>\n",
       "    </tr>\n",
       "    <tr>\n",
       "      <th>1</th>\n",
       "      <td>a0000719</td>\n",
       "      <td>2000719</td>\n",
       "      <td>719 Albert (A911 TB)</td>\n",
       "      <td>719</td>\n",
       "      <td>Albert</td>\n",
       "      <td>NaN</td>\n",
       "      <td>Y</td>\n",
       "      <td>N</td>\n",
       "      <td>15.5</td>\n",
       "      <td>NaN</td>\n",
       "      <td>...</td>\n",
       "      <td>1874</td>\n",
       "      <td>NaN</td>\n",
       "      <td>NaN</td>\n",
       "      <td>0.0</td>\n",
       "      <td>0.39148</td>\n",
       "      <td>NaN</td>\n",
       "      <td>NaN</td>\n",
       "      <td>NaN</td>\n",
       "      <td>NaN</td>\n",
       "      <td>NaN</td>\n",
       "    </tr>\n",
       "    <tr>\n",
       "      <th>2</th>\n",
       "      <td>a0000887</td>\n",
       "      <td>2000887</td>\n",
       "      <td>887 Alinda (A918 AA)</td>\n",
       "      <td>887</td>\n",
       "      <td>Alinda</td>\n",
       "      <td>NaN</td>\n",
       "      <td>Y</td>\n",
       "      <td>N</td>\n",
       "      <td>13.8</td>\n",
       "      <td>-0.12</td>\n",
       "      <td>...</td>\n",
       "      <td>1424</td>\n",
       "      <td>NaN</td>\n",
       "      <td>NaN</td>\n",
       "      <td>0.0</td>\n",
       "      <td>0.48159</td>\n",
       "      <td>NaN</td>\n",
       "      <td>NaN</td>\n",
       "      <td>NaN</td>\n",
       "      <td>NaN</td>\n",
       "      <td>NaN</td>\n",
       "    </tr>\n",
       "  </tbody>\n",
       "</table>\n",
       "<p>3 rows × 75 columns</p>\n",
       "</div>"
      ],
      "text/plain": [
       "         id    spkid                full_name pdes    name prefix neo pha  \\\n",
       "0  a0000433  2000433       433 Eros (A898 PA)  433    Eros    NaN   Y   N   \n",
       "1  a0000719  2000719     719 Albert (A911 TB)  719  Albert    NaN   Y   N   \n",
       "2  a0000887  2000887     887 Alinda (A918 AA)  887  Alinda    NaN   Y   N   \n",
       "\n",
       "      H     G  ...  n_obs_used  n_del_obs_used  n_dop_obs_used  \\\n",
       "0  10.4  0.46  ...        8767             4.0             2.0   \n",
       "1  15.5   NaN  ...        1874             NaN             NaN   \n",
       "2  13.8 -0.12  ...        1424             NaN             NaN   \n",
       "\n",
       "   condition_code      rms  two_body  A1  A2  A3  DT  \n",
       "0             0.0  0.28397       NaN NaN NaN NaN NaN  \n",
       "1             0.0  0.39148       NaN NaN NaN NaN NaN  \n",
       "2             0.0  0.48159       NaN NaN NaN NaN NaN  \n",
       "\n",
       "[3 rows x 75 columns]"
      ]
     },
     "execution_count": 25,
     "metadata": {},
     "output_type": "execute_result"
    }
   ],
   "source": [
    "neo_df.head(3)"
   ]
  },
  {
   "cell_type": "code",
   "execution_count": 54,
   "id": "a429bff1",
   "metadata": {},
   "outputs": [
    {
     "data": {
      "text/plain": [
       "Index(['id', 'spkid', 'full_name', 'pdes', 'name', 'prefix', 'neo', 'pha', 'H',\n",
       "       'G', 'M1', 'M2', 'K1', 'K2', 'PC', 'diameter', 'extent', 'albedo',\n",
       "       'rot_per', 'GM', 'BV', 'UB', 'IR', 'spec_B', 'spec_T', 'H_sigma',\n",
       "       'diameter_sigma', 'orbit_id', 'epoch', 'epoch_mjd', 'epoch_cal',\n",
       "       'equinox', 'e', 'a', 'q', 'i', 'om', 'w', 'ma', 'ad', 'n', 'tp',\n",
       "       'tp_cal', 'per', 'per_y', 'moid', 'moid_ld', 'moid_jup', 't_jup',\n",
       "       'sigma_e', 'sigma_a', 'sigma_q', 'sigma_i', 'sigma_om', 'sigma_w',\n",
       "       'sigma_ma', 'sigma_ad', 'sigma_n', 'sigma_tp', 'sigma_per', 'class',\n",
       "       'producer', 'data_arc', 'first_obs', 'last_obs', 'n_obs_used',\n",
       "       'n_del_obs_used', 'n_dop_obs_used', 'condition_code', 'rms', 'two_body',\n",
       "       'A1', 'A2', 'A3', 'DT'],\n",
       "      dtype='object')"
      ]
     },
     "execution_count": 54,
     "metadata": {},
     "output_type": "execute_result"
    }
   ],
   "source": [
    "neo_df.columns"
   ]
  },
  {
   "cell_type": "code",
   "execution_count": 56,
   "id": "e5689490",
   "metadata": {},
   "outputs": [
    {
     "data": {
      "text/plain": [
       "array(['N', 'Y', nan], dtype=object)"
      ]
     },
     "execution_count": 56,
     "metadata": {},
     "output_type": "execute_result"
    }
   ],
   "source": [
    "neo_df['pha'].unique()"
   ]
  },
  {
   "cell_type": "code",
   "execution_count": 55,
   "id": "28f15a29",
   "metadata": {},
   "outputs": [
    {
     "data": {
      "text/html": [
       "<div>\n",
       "<style scoped>\n",
       "    .dataframe tbody tr th:only-of-type {\n",
       "        vertical-align: middle;\n",
       "    }\n",
       "\n",
       "    .dataframe tbody tr th {\n",
       "        vertical-align: top;\n",
       "    }\n",
       "\n",
       "    .dataframe thead th {\n",
       "        text-align: right;\n",
       "    }\n",
       "</style>\n",
       "<table border=\"1\" class=\"dataframe\">\n",
       "  <thead>\n",
       "    <tr style=\"text-align: right;\">\n",
       "      <th></th>\n",
       "      <th>pdes</th>\n",
       "      <th>name</th>\n",
       "      <th>diameter</th>\n",
       "      <th>pha</th>\n",
       "    </tr>\n",
       "  </thead>\n",
       "  <tbody>\n",
       "    <tr>\n",
       "      <th>0</th>\n",
       "      <td>433</td>\n",
       "      <td>Eros</td>\n",
       "      <td>16.840</td>\n",
       "      <td>N</td>\n",
       "    </tr>\n",
       "    <tr>\n",
       "      <th>1</th>\n",
       "      <td>719</td>\n",
       "      <td>Albert</td>\n",
       "      <td>NaN</td>\n",
       "      <td>N</td>\n",
       "    </tr>\n",
       "    <tr>\n",
       "      <th>2</th>\n",
       "      <td>887</td>\n",
       "      <td>Alinda</td>\n",
       "      <td>4.200</td>\n",
       "      <td>N</td>\n",
       "    </tr>\n",
       "    <tr>\n",
       "      <th>3</th>\n",
       "      <td>1036</td>\n",
       "      <td>Ganymed</td>\n",
       "      <td>37.675</td>\n",
       "      <td>N</td>\n",
       "    </tr>\n",
       "    <tr>\n",
       "      <th>4</th>\n",
       "      <td>1221</td>\n",
       "      <td>Amor</td>\n",
       "      <td>1.000</td>\n",
       "      <td>N</td>\n",
       "    </tr>\n",
       "    <tr>\n",
       "      <th>...</th>\n",
       "      <td>...</td>\n",
       "      <td>...</td>\n",
       "      <td>...</td>\n",
       "      <td>...</td>\n",
       "    </tr>\n",
       "    <tr>\n",
       "      <th>23962</th>\n",
       "      <td>2019 Y4-D</td>\n",
       "      <td>ATLAS</td>\n",
       "      <td>NaN</td>\n",
       "      <td>NaN</td>\n",
       "    </tr>\n",
       "    <tr>\n",
       "      <th>23963</th>\n",
       "      <td>2020 G1</td>\n",
       "      <td>Pimentel</td>\n",
       "      <td>NaN</td>\n",
       "      <td>NaN</td>\n",
       "    </tr>\n",
       "    <tr>\n",
       "      <th>23964</th>\n",
       "      <td>2020 M3</td>\n",
       "      <td>ATLAS</td>\n",
       "      <td>NaN</td>\n",
       "      <td>NaN</td>\n",
       "    </tr>\n",
       "    <tr>\n",
       "      <th>23965</th>\n",
       "      <td>2020 P4-B</td>\n",
       "      <td>NaN</td>\n",
       "      <td>NaN</td>\n",
       "      <td>NaN</td>\n",
       "    </tr>\n",
       "    <tr>\n",
       "      <th>23966</th>\n",
       "      <td>2020 P4-C</td>\n",
       "      <td>NaN</td>\n",
       "      <td>NaN</td>\n",
       "      <td>NaN</td>\n",
       "    </tr>\n",
       "  </tbody>\n",
       "</table>\n",
       "<p>23967 rows × 4 columns</p>\n",
       "</div>"
      ],
      "text/plain": [
       "            pdes      name  diameter  pha\n",
       "0            433      Eros    16.840    N\n",
       "1            719    Albert       NaN    N\n",
       "2            887    Alinda     4.200    N\n",
       "3           1036   Ganymed    37.675    N\n",
       "4           1221      Amor     1.000    N\n",
       "...          ...       ...       ...  ...\n",
       "23962  2019 Y4-D     ATLAS       NaN  NaN\n",
       "23963    2020 G1  Pimentel       NaN  NaN\n",
       "23964    2020 M3     ATLAS       NaN  NaN\n",
       "23965  2020 P4-B       NaN       NaN  NaN\n",
       "23966  2020 P4-C       NaN       NaN  NaN\n",
       "\n",
       "[23967 rows x 4 columns]"
      ]
     },
     "execution_count": 55,
     "metadata": {},
     "output_type": "execute_result"
    }
   ],
   "source": [
    "neo_df[['pdes', 'name', 'diameter', 'pha']]"
   ]
  },
  {
   "cell_type": "code",
   "execution_count": 26,
   "id": "ca649ea1",
   "metadata": {},
   "outputs": [],
   "source": [
    "with open('./data/cad.json') as json_data:\n",
    "    data = json.load(json_data)\n"
   ]
  },
  {
   "cell_type": "code",
   "execution_count": 70,
   "id": "c2f98f1c",
   "metadata": {},
   "outputs": [
    {
     "data": {
      "text/plain": [
       "3"
      ]
     },
     "execution_count": 70,
     "metadata": {},
     "output_type": "execute_result"
    }
   ],
   "source": [
    "data['fields'].index('cd')"
   ]
  },
  {
   "cell_type": "code",
   "execution_count": 67,
   "id": "b3a4b4f2",
   "metadata": {},
   "outputs": [
    {
     "data": {
      "text/plain": [
       "['des',\n",
       " 'orbit_id',\n",
       " 'jd',\n",
       " 'cd',\n",
       " 'dist',\n",
       " 'dist_min',\n",
       " 'dist_max',\n",
       " 'v_rel',\n",
       " 'v_inf',\n",
       " 't_sigma_f',\n",
       " 'h']"
      ]
     },
     "execution_count": 67,
     "metadata": {},
     "output_type": "execute_result"
    }
   ],
   "source": [
    "data['fields']"
   ]
  },
  {
   "cell_type": "code",
   "execution_count": 34,
   "id": "d6dc4d62",
   "metadata": {},
   "outputs": [
    {
     "data": {
      "text/plain": [
       "{'source': 'NASA/JPL SBDB Close Approach Data API', 'version': '1.1'}"
      ]
     },
     "execution_count": 34,
     "metadata": {},
     "output_type": "execute_result"
    }
   ],
   "source": [
    "data['signature']"
   ]
  },
  {
   "cell_type": "code",
   "execution_count": 35,
   "id": "c9a21626",
   "metadata": {},
   "outputs": [
    {
     "data": {
      "text/plain": [
       "'406785'"
      ]
     },
     "execution_count": 35,
     "metadata": {},
     "output_type": "execute_result"
    }
   ],
   "source": [
    "data['count']"
   ]
  },
  {
   "cell_type": "code",
   "execution_count": 40,
   "id": "89132189",
   "metadata": {},
   "outputs": [],
   "source": [
    "cad_df = pd.DataFrame(data['data'], columns=data['fields'])\n",
    "cad_df['cd'] = pd.to_datetime(cad_df['cd'])"
   ]
  },
  {
   "cell_type": "code",
   "execution_count": 41,
   "id": "f3577fd5",
   "metadata": {},
   "outputs": [
    {
     "name": "stdout",
     "output_type": "stream",
     "text": [
      "<class 'pandas.core.frame.DataFrame'>\n",
      "RangeIndex: 406785 entries, 0 to 406784\n",
      "Data columns (total 11 columns):\n",
      " #   Column     Non-Null Count   Dtype         \n",
      "---  ------     --------------   -----         \n",
      " 0   des        406785 non-null  object        \n",
      " 1   orbit_id   406785 non-null  object        \n",
      " 2   jd         406785 non-null  object        \n",
      " 3   cd         406785 non-null  datetime64[ns]\n",
      " 4   dist       406785 non-null  object        \n",
      " 5   dist_min   406785 non-null  object        \n",
      " 6   dist_max   406785 non-null  object        \n",
      " 7   v_rel      406785 non-null  object        \n",
      " 8   v_inf      406766 non-null  object        \n",
      " 9   t_sigma_f  406785 non-null  object        \n",
      " 10  h          406277 non-null  object        \n",
      "dtypes: datetime64[ns](1), object(10)\n",
      "memory usage: 34.1+ MB\n"
     ]
    }
   ],
   "source": [
    "cad_df.info()"
   ]
  },
  {
   "cell_type": "code",
   "execution_count": 32,
   "id": "0d049445",
   "metadata": {},
   "outputs": [
    {
     "data": {
      "text/html": [
       "<div>\n",
       "<style scoped>\n",
       "    .dataframe tbody tr th:only-of-type {\n",
       "        vertical-align: middle;\n",
       "    }\n",
       "\n",
       "    .dataframe tbody tr th {\n",
       "        vertical-align: top;\n",
       "    }\n",
       "\n",
       "    .dataframe thead th {\n",
       "        text-align: right;\n",
       "    }\n",
       "</style>\n",
       "<table border=\"1\" class=\"dataframe\">\n",
       "  <thead>\n",
       "    <tr style=\"text-align: right;\">\n",
       "      <th></th>\n",
       "      <th>des</th>\n",
       "      <th>orbit_id</th>\n",
       "      <th>jd</th>\n",
       "      <th>cd</th>\n",
       "      <th>dist</th>\n",
       "      <th>dist_min</th>\n",
       "      <th>dist_max</th>\n",
       "      <th>v_rel</th>\n",
       "      <th>v_inf</th>\n",
       "      <th>t_sigma_f</th>\n",
       "      <th>h</th>\n",
       "    </tr>\n",
       "  </thead>\n",
       "  <tbody>\n",
       "    <tr>\n",
       "      <th>0</th>\n",
       "      <td>170903</td>\n",
       "      <td>105</td>\n",
       "      <td>2415020.507669610</td>\n",
       "      <td>1900-Jan-01 00:11</td>\n",
       "      <td>0.0921795123769547</td>\n",
       "      <td>0.0912006569517418</td>\n",
       "      <td>0.0931589328621254</td>\n",
       "      <td>16.7523040362574</td>\n",
       "      <td>16.7505784933163</td>\n",
       "      <td>01:00</td>\n",
       "      <td>18.1</td>\n",
       "    </tr>\n",
       "    <tr>\n",
       "      <th>1</th>\n",
       "      <td>2005 OE3</td>\n",
       "      <td>52</td>\n",
       "      <td>2415020.606013490</td>\n",
       "      <td>1900-Jan-01 02:33</td>\n",
       "      <td>0.414975519685102</td>\n",
       "      <td>0.414968315685577</td>\n",
       "      <td>0.414982724454678</td>\n",
       "      <td>17.918395877175</td>\n",
       "      <td>17.9180375373357</td>\n",
       "      <td>&lt; 00:01</td>\n",
       "      <td>20.3</td>\n",
       "    </tr>\n",
       "    <tr>\n",
       "      <th>2</th>\n",
       "      <td>2006 XO4</td>\n",
       "      <td>15</td>\n",
       "      <td>2415020.634068074</td>\n",
       "      <td>1900-Jan-01 03:13</td>\n",
       "      <td>0.114291499199114</td>\n",
       "      <td>0.114272705486348</td>\n",
       "      <td>0.114310301346124</td>\n",
       "      <td>7.39720266467069</td>\n",
       "      <td>7.3940503943318</td>\n",
       "      <td>00:23</td>\n",
       "      <td>23.4</td>\n",
       "    </tr>\n",
       "  </tbody>\n",
       "</table>\n",
       "</div>"
      ],
      "text/plain": [
       "        des orbit_id                 jd                 cd  \\\n",
       "0    170903      105  2415020.507669610  1900-Jan-01 00:11   \n",
       "1  2005 OE3       52  2415020.606013490  1900-Jan-01 02:33   \n",
       "2  2006 XO4       15  2415020.634068074  1900-Jan-01 03:13   \n",
       "\n",
       "                 dist            dist_min            dist_max  \\\n",
       "0  0.0921795123769547  0.0912006569517418  0.0931589328621254   \n",
       "1   0.414975519685102   0.414968315685577   0.414982724454678   \n",
       "2   0.114291499199114   0.114272705486348   0.114310301346124   \n",
       "\n",
       "              v_rel             v_inf t_sigma_f     h  \n",
       "0  16.7523040362574  16.7505784933163     01:00  18.1  \n",
       "1   17.918395877175  17.9180375373357   < 00:01  20.3  \n",
       "2  7.39720266467069   7.3940503943318     00:23  23.4  "
      ]
     },
     "execution_count": 32,
     "metadata": {},
     "output_type": "execute_result"
    }
   ],
   "source": [
    "cad_df.head(3)"
   ]
  },
  {
   "cell_type": "markdown",
   "id": "2f133dfe",
   "metadata": {},
   "source": [
    "### How many NEOs are in the neos.csv data set? "
   ]
  },
  {
   "cell_type": "code",
   "execution_count": 7,
   "id": "8dbbfb6a",
   "metadata": {},
   "outputs": [
    {
     "data": {
      "text/plain": [
       "23967"
      ]
     },
     "execution_count": 7,
     "metadata": {},
     "output_type": "execute_result"
    }
   ],
   "source": [
    "len(neo_df)"
   ]
  },
  {
   "cell_type": "markdown",
   "id": "b5a11641",
   "metadata": {},
   "source": [
    "### What is the primary designation of the first Near Earth Object in the neos.csv data set?"
   ]
  },
  {
   "cell_type": "code",
   "execution_count": 10,
   "id": "e0f6673d",
   "metadata": {},
   "outputs": [
    {
     "data": {
      "text/plain": [
       "'433'"
      ]
     },
     "execution_count": 10,
     "metadata": {},
     "output_type": "execute_result"
    }
   ],
   "source": [
    "neo_df[['pdes']].iloc[0, 0]"
   ]
  },
  {
   "cell_type": "markdown",
   "id": "6cd6a6a6",
   "metadata": {},
   "source": [
    "### What is the diameter (in kilometers) of the NEO whose name is \"Apollo\"?"
   ]
  },
  {
   "cell_type": "code",
   "execution_count": 12,
   "id": "983995a3",
   "metadata": {},
   "outputs": [
    {
     "data": {
      "text/plain": [
       "10    1.5\n",
       "Name: diameter, dtype: float64"
      ]
     },
     "execution_count": 12,
     "metadata": {},
     "output_type": "execute_result"
    }
   ],
   "source": [
    "neo_df[neo_df['name'] == 'Apollo']['diameter']"
   ]
  },
  {
   "cell_type": "markdown",
   "id": "cfbefd18",
   "metadata": {},
   "source": [
    "### How many NEOs have IAU names in the data set?"
   ]
  },
  {
   "cell_type": "code",
   "execution_count": 16,
   "id": "4acac4ec",
   "metadata": {},
   "outputs": [
    {
     "data": {
      "text/plain": [
       "343"
      ]
     },
     "execution_count": 16,
     "metadata": {},
     "output_type": "execute_result"
    }
   ],
   "source": [
    "neo_df['name'].notnull().sum()"
   ]
  },
  {
   "cell_type": "markdown",
   "id": "bda3f203",
   "metadata": {},
   "source": [
    "### How many NEOs have diameters in the data set?"
   ]
  },
  {
   "cell_type": "code",
   "execution_count": 17,
   "id": "767061d8",
   "metadata": {},
   "outputs": [
    {
     "data": {
      "text/plain": [
       "1268"
      ]
     },
     "execution_count": 17,
     "metadata": {},
     "output_type": "execute_result"
    }
   ],
   "source": [
    "neo_df['diameter'].notnull().sum()"
   ]
  },
  {
   "cell_type": "markdown",
   "id": "d2219d5b",
   "metadata": {},
   "source": [
    "### How many close approaches are in the cad.json data set?"
   ]
  },
  {
   "cell_type": "code",
   "execution_count": 36,
   "id": "5ce3dbd5",
   "metadata": {},
   "outputs": [
    {
     "data": {
      "text/plain": [
       "406785"
      ]
     },
     "execution_count": 36,
     "metadata": {},
     "output_type": "execute_result"
    }
   ],
   "source": [
    "len(cad_df)"
   ]
  },
  {
   "cell_type": "markdown",
   "id": "f6587c1a",
   "metadata": {},
   "source": [
    "### On January 1st, 2000, how close did the NEO whose primary designation is \"2015 CL\" pass by Earth?"
   ]
  },
  {
   "cell_type": "code",
   "execution_count": 47,
   "id": "0b4bd23e",
   "metadata": {},
   "outputs": [
    {
     "data": {
      "text/html": [
       "<div>\n",
       "<style scoped>\n",
       "    .dataframe tbody tr th:only-of-type {\n",
       "        vertical-align: middle;\n",
       "    }\n",
       "\n",
       "    .dataframe tbody tr th {\n",
       "        vertical-align: top;\n",
       "    }\n",
       "\n",
       "    .dataframe thead th {\n",
       "        text-align: right;\n",
       "    }\n",
       "</style>\n",
       "<table border=\"1\" class=\"dataframe\">\n",
       "  <thead>\n",
       "    <tr style=\"text-align: right;\">\n",
       "      <th></th>\n",
       "      <th>des</th>\n",
       "      <th>orbit_id</th>\n",
       "      <th>jd</th>\n",
       "      <th>cd</th>\n",
       "      <th>dist</th>\n",
       "      <th>dist_min</th>\n",
       "      <th>dist_max</th>\n",
       "      <th>v_rel</th>\n",
       "      <th>v_inf</th>\n",
       "      <th>t_sigma_f</th>\n",
       "      <th>h</th>\n",
       "    </tr>\n",
       "  </thead>\n",
       "  <tbody>\n",
       "    <tr>\n",
       "      <th>180844</th>\n",
       "      <td>2015 CL</td>\n",
       "      <td>7</td>\n",
       "      <td>2451544.575085225</td>\n",
       "      <td>2000-01-01 01:48:00</td>\n",
       "      <td>0.144929602021186</td>\n",
       "      <td>0.144894711605919</td>\n",
       "      <td>0.144964493657327</td>\n",
       "      <td>12.0338907050642</td>\n",
       "      <td>12.0323628689746</td>\n",
       "      <td>00:19</td>\n",
       "      <td>25.3</td>\n",
       "    </tr>\n",
       "    <tr>\n",
       "      <th>180845</th>\n",
       "      <td>2002 PB</td>\n",
       "      <td>22</td>\n",
       "      <td>2451544.656861311</td>\n",
       "      <td>2000-01-01 03:46:00</td>\n",
       "      <td>0.499221505520251</td>\n",
       "      <td>0.499198890779505</td>\n",
       "      <td>0.499244120869353</td>\n",
       "      <td>29.3862908945476</td>\n",
       "      <td>29.3861092695424</td>\n",
       "      <td>&lt; 00:01</td>\n",
       "      <td>20.5</td>\n",
       "    </tr>\n",
       "    <tr>\n",
       "      <th>180846</th>\n",
       "      <td>417655</td>\n",
       "      <td>32</td>\n",
       "      <td>2451544.967962443</td>\n",
       "      <td>2000-01-01 11:14:00</td>\n",
       "      <td>0.347809805138266</td>\n",
       "      <td>0.347809185789178</td>\n",
       "      <td>0.347810424487433</td>\n",
       "      <td>9.63652182082792</td>\n",
       "      <td>9.63572681897425</td>\n",
       "      <td>&lt; 00:01</td>\n",
       "      <td>19.9</td>\n",
       "    </tr>\n",
       "    <tr>\n",
       "      <th>180847</th>\n",
       "      <td>2002 AY1</td>\n",
       "      <td>47</td>\n",
       "      <td>2451545.232240258</td>\n",
       "      <td>2000-01-01 17:34:00</td>\n",
       "      <td>0.271330274354689</td>\n",
       "      <td>0.271330198605043</td>\n",
       "      <td>0.271330350105786</td>\n",
       "      <td>24.6801874471394</td>\n",
       "      <td>24.6797895515273</td>\n",
       "      <td>&lt; 00:01</td>\n",
       "      <td>20.8</td>\n",
       "    </tr>\n",
       "  </tbody>\n",
       "</table>\n",
       "</div>"
      ],
      "text/plain": [
       "             des orbit_id                 jd                  cd  \\\n",
       "180844   2015 CL        7  2451544.575085225 2000-01-01 01:48:00   \n",
       "180845   2002 PB       22  2451544.656861311 2000-01-01 03:46:00   \n",
       "180846    417655       32  2451544.967962443 2000-01-01 11:14:00   \n",
       "180847  2002 AY1       47  2451545.232240258 2000-01-01 17:34:00   \n",
       "\n",
       "                     dist           dist_min           dist_max  \\\n",
       "180844  0.144929602021186  0.144894711605919  0.144964493657327   \n",
       "180845  0.499221505520251  0.499198890779505  0.499244120869353   \n",
       "180846  0.347809805138266  0.347809185789178  0.347810424487433   \n",
       "180847  0.271330274354689  0.271330198605043  0.271330350105786   \n",
       "\n",
       "                   v_rel             v_inf t_sigma_f     h  \n",
       "180844  12.0338907050642  12.0323628689746     00:19  25.3  \n",
       "180845  29.3862908945476  29.3861092695424   < 00:01  20.5  \n",
       "180846  9.63652182082792  9.63572681897425   < 00:01  19.9  \n",
       "180847  24.6801874471394  24.6797895515273   < 00:01  20.8  "
      ]
     },
     "execution_count": 47,
     "metadata": {},
     "output_type": "execute_result"
    }
   ],
   "source": [
    "cad_df[(cad_df['cd'].dt.year == 2000) & (cad_df['cd'].dt.month == 1) & (cad_df['cd'].dt.day == 1)]"
   ]
  },
  {
   "cell_type": "markdown",
   "id": "7adc69c0",
   "metadata": {},
   "source": [
    "### On January 1st, 2000, how fast did the NEO whose primary designation is \"2002 PB\" pass by Earth?"
   ]
  },
  {
   "cell_type": "code",
   "execution_count": 50,
   "id": "aef77896",
   "metadata": {},
   "outputs": [
    {
     "data": {
      "text/html": [
       "<div>\n",
       "<style scoped>\n",
       "    .dataframe tbody tr th:only-of-type {\n",
       "        vertical-align: middle;\n",
       "    }\n",
       "\n",
       "    .dataframe tbody tr th {\n",
       "        vertical-align: top;\n",
       "    }\n",
       "\n",
       "    .dataframe thead th {\n",
       "        text-align: right;\n",
       "    }\n",
       "</style>\n",
       "<table border=\"1\" class=\"dataframe\">\n",
       "  <thead>\n",
       "    <tr style=\"text-align: right;\">\n",
       "      <th></th>\n",
       "      <th>des</th>\n",
       "      <th>orbit_id</th>\n",
       "      <th>jd</th>\n",
       "      <th>cd</th>\n",
       "      <th>dist</th>\n",
       "      <th>dist_min</th>\n",
       "      <th>dist_max</th>\n",
       "      <th>v_rel</th>\n",
       "      <th>v_inf</th>\n",
       "      <th>t_sigma_f</th>\n",
       "      <th>h</th>\n",
       "    </tr>\n",
       "  </thead>\n",
       "  <tbody>\n",
       "    <tr>\n",
       "      <th>180845</th>\n",
       "      <td>2002 PB</td>\n",
       "      <td>22</td>\n",
       "      <td>2451544.656861311</td>\n",
       "      <td>2000-01-01 03:46:00</td>\n",
       "      <td>0.499221505520251</td>\n",
       "      <td>0.499198890779505</td>\n",
       "      <td>0.499244120869353</td>\n",
       "      <td>29.3862908945476</td>\n",
       "      <td>29.3861092695424</td>\n",
       "      <td>&lt; 00:01</td>\n",
       "      <td>20.5</td>\n",
       "    </tr>\n",
       "  </tbody>\n",
       "</table>\n",
       "</div>"
      ],
      "text/plain": [
       "            des orbit_id                 jd                  cd  \\\n",
       "180845  2002 PB       22  2451544.656861311 2000-01-01 03:46:00   \n",
       "\n",
       "                     dist           dist_min           dist_max  \\\n",
       "180845  0.499221505520251  0.499198890779505  0.499244120869353   \n",
       "\n",
       "                   v_rel             v_inf t_sigma_f     h  \n",
       "180845  29.3862908945476  29.3861092695424   < 00:01  20.5  "
      ]
     },
     "execution_count": 50,
     "metadata": {},
     "output_type": "execute_result"
    }
   ],
   "source": [
    "cad_df[(cad_df['des'] == '2002 PB') & (cad_df['cd'].dt.year == 2000)]"
   ]
  },
  {
   "cell_type": "code",
   "execution_count": 71,
   "id": "a69c10c7",
   "metadata": {},
   "outputs": [
    {
     "data": {
      "text/html": [
       "<div>\n",
       "<style scoped>\n",
       "    .dataframe tbody tr th:only-of-type {\n",
       "        vertical-align: middle;\n",
       "    }\n",
       "\n",
       "    .dataframe tbody tr th {\n",
       "        vertical-align: top;\n",
       "    }\n",
       "\n",
       "    .dataframe thead th {\n",
       "        text-align: right;\n",
       "    }\n",
       "</style>\n",
       "<table border=\"1\" class=\"dataframe\">\n",
       "  <thead>\n",
       "    <tr style=\"text-align: right;\">\n",
       "      <th></th>\n",
       "      <th>id</th>\n",
       "      <th>spkid</th>\n",
       "      <th>full_name</th>\n",
       "      <th>pdes</th>\n",
       "      <th>name</th>\n",
       "      <th>prefix</th>\n",
       "      <th>neo</th>\n",
       "      <th>pha</th>\n",
       "      <th>H</th>\n",
       "      <th>G</th>\n",
       "      <th>...</th>\n",
       "      <th>n_obs_used</th>\n",
       "      <th>n_del_obs_used</th>\n",
       "      <th>n_dop_obs_used</th>\n",
       "      <th>condition_code</th>\n",
       "      <th>rms</th>\n",
       "      <th>two_body</th>\n",
       "      <th>A1</th>\n",
       "      <th>A2</th>\n",
       "      <th>A3</th>\n",
       "      <th>DT</th>\n",
       "    </tr>\n",
       "  </thead>\n",
       "  <tbody>\n",
       "    <tr>\n",
       "      <th>12162</th>\n",
       "      <td>bK15C00L</td>\n",
       "      <td>3709715</td>\n",
       "      <td>(2015 CL)</td>\n",
       "      <td>2015 CL</td>\n",
       "      <td>NaN</td>\n",
       "      <td>NaN</td>\n",
       "      <td>Y</td>\n",
       "      <td>N</td>\n",
       "      <td>25.3</td>\n",
       "      <td>NaN</td>\n",
       "      <td>...</td>\n",
       "      <td>71</td>\n",
       "      <td>NaN</td>\n",
       "      <td>NaN</td>\n",
       "      <td>1.0</td>\n",
       "      <td>0.55564</td>\n",
       "      <td>NaN</td>\n",
       "      <td>NaN</td>\n",
       "      <td>NaN</td>\n",
       "      <td>NaN</td>\n",
       "      <td>NaN</td>\n",
       "    </tr>\n",
       "  </tbody>\n",
       "</table>\n",
       "<p>1 rows × 75 columns</p>\n",
       "</div>"
      ],
      "text/plain": [
       "             id    spkid         full_name     pdes name prefix neo pha     H  \\\n",
       "12162  bK15C00L  3709715         (2015 CL)  2015 CL  NaN    NaN   Y   N  25.3   \n",
       "\n",
       "        G  ...  n_obs_used  n_del_obs_used  n_dop_obs_used  condition_code  \\\n",
       "12162 NaN  ...          71             NaN             NaN             1.0   \n",
       "\n",
       "           rms  two_body  A1  A2  A3  DT  \n",
       "12162  0.55564       NaN NaN NaN NaN NaN  \n",
       "\n",
       "[1 rows x 75 columns]"
      ]
     },
     "execution_count": 71,
     "metadata": {},
     "output_type": "execute_result"
    }
   ],
   "source": [
    "neo_df[neo_df['pdes'] == '2014']"
   ]
  },
  {
   "cell_type": "code",
   "execution_count": null,
   "id": "15a70c16",
   "metadata": {},
   "outputs": [],
   "source": []
  }
 ],
 "metadata": {
  "kernelspec": {
   "display_name": "env_deep_py3",
   "language": "python",
   "name": "env_deep_py3"
  },
  "language_info": {
   "codemirror_mode": {
    "name": "ipython",
    "version": 3
   },
   "file_extension": ".py",
   "mimetype": "text/x-python",
   "name": "python",
   "nbconvert_exporter": "python",
   "pygments_lexer": "ipython3",
   "version": "3.9.13"
  }
 },
 "nbformat": 4,
 "nbformat_minor": 5
}
